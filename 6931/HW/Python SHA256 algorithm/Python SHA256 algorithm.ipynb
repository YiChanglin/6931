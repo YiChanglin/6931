{
 "cells": [
  {
   "cell_type": "code",
   "execution_count": 1,
   "id": "e77ae1fb-3e75-45f3-95b2-a675d335efcd",
   "metadata": {},
   "outputs": [],
   "source": [
    "import hashlib\n",
    "import pandas as pd\n",
    "spreadsheet = pd.read_excel('/Users/charlie/Desktop/NYU2024 fall/6931/HW/Python SHA256 algorithm/spreadsheet.xlsx')"
   ]
  },
  {
   "cell_type": "code",
   "execution_count": 2,
   "id": "fde29804-58c3-42ed-9f48-b1c136a489fb",
   "metadata": {},
   "outputs": [
    {
     "data": {
      "text/html": [
       "<div>\n",
       "<style scoped>\n",
       "    .dataframe tbody tr th:only-of-type {\n",
       "        vertical-align: middle;\n",
       "    }\n",
       "\n",
       "    .dataframe tbody tr th {\n",
       "        vertical-align: top;\n",
       "    }\n",
       "\n",
       "    .dataframe thead th {\n",
       "        text-align: right;\n",
       "    }\n",
       "</style>\n",
       "<table border=\"1\" class=\"dataframe\">\n",
       "  <thead>\n",
       "    <tr style=\"text-align: right;\">\n",
       "      <th></th>\n",
       "      <th>Unnamed: 0</th>\n",
       "      <th>Name</th>\n",
       "      <th>Email</th>\n",
       "      <th>password</th>\n",
       "    </tr>\n",
       "  </thead>\n",
       "  <tbody>\n",
       "    <tr>\n",
       "      <th>0</th>\n",
       "      <td>1</td>\n",
       "      <td>Richard Radnay</td>\n",
       "      <td>richard.radnay@nyu.edu</td>\n",
       "      <td>!Sat0sh1G3niu3</td>\n",
       "    </tr>\n",
       "    <tr>\n",
       "      <th>1</th>\n",
       "      <td>2</td>\n",
       "      <td>Aria Blackwood</td>\n",
       "      <td>aria.blackwood@gmail.com</td>\n",
       "      <td>X7R9p2Lm</td>\n",
       "    </tr>\n",
       "    <tr>\n",
       "      <th>2</th>\n",
       "      <td>3</td>\n",
       "      <td>Jasper Chen</td>\n",
       "      <td>jasper.chen@outlook.com</td>\n",
       "      <td>B3T8kF5w</td>\n",
       "    </tr>\n",
       "    <tr>\n",
       "      <th>3</th>\n",
       "      <td>4</td>\n",
       "      <td>Zoe Ndiaye</td>\n",
       "      <td>zoe.ndiaye@nyu.edu</td>\n",
       "      <td>N6Q4jH9y</td>\n",
       "    </tr>\n",
       "    <tr>\n",
       "      <th>4</th>\n",
       "      <td>5</td>\n",
       "      <td>Felix Kowalski</td>\n",
       "      <td>Felixkowalski@gmail.com</td>\n",
       "      <td>C2Z5vG7s</td>\n",
       "    </tr>\n",
       "  </tbody>\n",
       "</table>\n",
       "</div>"
      ],
      "text/plain": [
       "   Unnamed: 0            Name                     Email        password\n",
       "0           1  Richard Radnay    richard.radnay@nyu.edu  !Sat0sh1G3niu3\n",
       "1           2  Aria Blackwood  aria.blackwood@gmail.com        X7R9p2Lm\n",
       "2           3     Jasper Chen   jasper.chen@outlook.com        B3T8kF5w\n",
       "3           4      Zoe Ndiaye        zoe.ndiaye@nyu.edu        N6Q4jH9y\n",
       "4           5  Felix Kowalski   Felixkowalski@gmail.com        C2Z5vG7s"
      ]
     },
     "execution_count": 2,
     "metadata": {},
     "output_type": "execute_result"
    }
   ],
   "source": [
    "spreadsheet.head()"
   ]
  },
  {
   "cell_type": "code",
   "execution_count": 3,
   "id": "e7ee78ab-70cd-4b72-a509-75bcc0c3c40e",
   "metadata": {},
   "outputs": [],
   "source": [
    "def generate_hash(password):\n",
    "    return hashlib.sha256(password.encode()).hexdigest()\n",
    "\n",
    "# Apply the hash function to the 'password' column and create a new 'HASH' column\n",
    "spreadsheet['HASH'] = spreadsheet['password'].apply(generate_hash)"
   ]
  },
  {
   "cell_type": "code",
   "execution_count": 4,
   "id": "db285ead-8444-4510-93ed-edda6238816e",
   "metadata": {},
   "outputs": [
    {
     "data": {
      "text/html": [
       "<div>\n",
       "<style scoped>\n",
       "    .dataframe tbody tr th:only-of-type {\n",
       "        vertical-align: middle;\n",
       "    }\n",
       "\n",
       "    .dataframe tbody tr th {\n",
       "        vertical-align: top;\n",
       "    }\n",
       "\n",
       "    .dataframe thead th {\n",
       "        text-align: right;\n",
       "    }\n",
       "</style>\n",
       "<table border=\"1\" class=\"dataframe\">\n",
       "  <thead>\n",
       "    <tr style=\"text-align: right;\">\n",
       "      <th></th>\n",
       "      <th>Unnamed: 0</th>\n",
       "      <th>Name</th>\n",
       "      <th>Email</th>\n",
       "      <th>password</th>\n",
       "      <th>HASH</th>\n",
       "    </tr>\n",
       "  </thead>\n",
       "  <tbody>\n",
       "    <tr>\n",
       "      <th>0</th>\n",
       "      <td>1</td>\n",
       "      <td>Richard Radnay</td>\n",
       "      <td>richard.radnay@nyu.edu</td>\n",
       "      <td>!Sat0sh1G3niu3</td>\n",
       "      <td>cc6e4f5eb6e88b0f3c0fd442c9a17beb71e5134e1a7c33...</td>\n",
       "    </tr>\n",
       "    <tr>\n",
       "      <th>1</th>\n",
       "      <td>2</td>\n",
       "      <td>Aria Blackwood</td>\n",
       "      <td>aria.blackwood@gmail.com</td>\n",
       "      <td>X7R9p2Lm</td>\n",
       "      <td>d31135bc02ffa2818dea2acacc7ccab42ddd3f854367e2...</td>\n",
       "    </tr>\n",
       "    <tr>\n",
       "      <th>2</th>\n",
       "      <td>3</td>\n",
       "      <td>Jasper Chen</td>\n",
       "      <td>jasper.chen@outlook.com</td>\n",
       "      <td>B3T8kF5w</td>\n",
       "      <td>a48d0b1257de6b2c29fc1c5a40a87f2ee8fce3beb5c5bd...</td>\n",
       "    </tr>\n",
       "    <tr>\n",
       "      <th>3</th>\n",
       "      <td>4</td>\n",
       "      <td>Zoe Ndiaye</td>\n",
       "      <td>zoe.ndiaye@nyu.edu</td>\n",
       "      <td>N6Q4jH9y</td>\n",
       "      <td>21a5a292082e564fa0063fa278b4a125ffe525b9d1501c...</td>\n",
       "    </tr>\n",
       "    <tr>\n",
       "      <th>4</th>\n",
       "      <td>5</td>\n",
       "      <td>Felix Kowalski</td>\n",
       "      <td>Felixkowalski@gmail.com</td>\n",
       "      <td>C2Z5vG7s</td>\n",
       "      <td>54921ab52aa3a23ead7bc24c82b08e0d26cdb1e8490d34...</td>\n",
       "    </tr>\n",
       "  </tbody>\n",
       "</table>\n",
       "</div>"
      ],
      "text/plain": [
       "   Unnamed: 0            Name                     Email        password  \\\n",
       "0           1  Richard Radnay    richard.radnay@nyu.edu  !Sat0sh1G3niu3   \n",
       "1           2  Aria Blackwood  aria.blackwood@gmail.com        X7R9p2Lm   \n",
       "2           3     Jasper Chen   jasper.chen@outlook.com        B3T8kF5w   \n",
       "3           4      Zoe Ndiaye        zoe.ndiaye@nyu.edu        N6Q4jH9y   \n",
       "4           5  Felix Kowalski   Felixkowalski@gmail.com        C2Z5vG7s   \n",
       "\n",
       "                                                HASH  \n",
       "0  cc6e4f5eb6e88b0f3c0fd442c9a17beb71e5134e1a7c33...  \n",
       "1  d31135bc02ffa2818dea2acacc7ccab42ddd3f854367e2...  \n",
       "2  a48d0b1257de6b2c29fc1c5a40a87f2ee8fce3beb5c5bd...  \n",
       "3  21a5a292082e564fa0063fa278b4a125ffe525b9d1501c...  \n",
       "4  54921ab52aa3a23ead7bc24c82b08e0d26cdb1e8490d34...  "
      ]
     },
     "execution_count": 4,
     "metadata": {},
     "output_type": "execute_result"
    }
   ],
   "source": [
    "spreadsheet"
   ]
  },
  {
   "cell_type": "code",
   "execution_count": null,
   "id": "e58382f7-18fd-43f8-8990-37449196de1e",
   "metadata": {},
   "outputs": [],
   "source": []
  }
 ],
 "metadata": {
  "kernelspec": {
   "display_name": "Python 3 (ipykernel)",
   "language": "python",
   "name": "python3"
  },
  "language_info": {
   "codemirror_mode": {
    "name": "ipython",
    "version": 3
   },
   "file_extension": ".py",
   "mimetype": "text/x-python",
   "name": "python",
   "nbconvert_exporter": "python",
   "pygments_lexer": "ipython3",
   "version": "3.12.4"
  }
 },
 "nbformat": 4,
 "nbformat_minor": 5
}
