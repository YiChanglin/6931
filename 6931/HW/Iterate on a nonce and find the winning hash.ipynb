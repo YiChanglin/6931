{
 "cells": [
  {
   "cell_type": "markdown",
   "id": "d7375f4a-5379-46bd-a308-6a9f3c7d8464",
   "metadata": {},
   "source": [
    "Below is the process of iterating the nonce from 0 to 19, calculating the SHA-256 hash for each input, and determining the input with the lowest hexadecimal hash value"
   ]
  },
  {
   "cell_type": "code",
   "execution_count": 1,
   "id": "92f95a2d-bd32-41d4-941a-7bef8619495b",
   "metadata": {},
   "outputs": [
    {
     "name": "stdout",
     "output_type": "stream",
     "text": [
      "Alice is a Bitcoin Miner0 => 5929f3e947e59e90daeaa317829c4362e72ba65409dca3bee52f9a4ce73e2516\n",
      "Alice is a Bitcoin Miner1 => dba7eb8eb6221f1b24fff8cf055c59beeffa2e69a436d7e63b0c31347fce37e1\n",
      "Alice is a Bitcoin Miner2 => 6171cdd724dcf15a0d2a1496ba1080a85c76d0472f1f0ec77c07c21c86454582\n",
      "Alice is a Bitcoin Miner3 => d8faf6cee2b30ba99993e25e4286472c6fa234bdb442335447f815351b7a2435\n",
      "Alice is a Bitcoin Miner4 => f769649ffa3427e1917adbe4144a9720c9b0c0969e4133d051de73e2578b45d6\n",
      "Alice is a Bitcoin Miner5 => 320cf42c1990b49b42c0440ce40f3b6d4d69ab37d7df69b8acf830cbcf0e5f08\n",
      "Alice is a Bitcoin Miner6 => 53d9778e7e1a497b6f0ba1d445e57a7da969b54776bc9803c8f5e84f6c51d461\n",
      "Alice is a Bitcoin Miner7 => e304c4068373f5f40cc15e90b6a33b56b31a50d899fae32fa8deface1347491a\n",
      "Alice is a Bitcoin Miner8 => a7a385985e970d3394363f72e6a6c37f0ff3d7fd593554e6a20917df0bd306e6\n",
      "Alice is a Bitcoin Miner9 => 705002455809a15c43b397e0e52717f57c8c4511341009d3105544dba8fdbc81\n",
      "Alice is a Bitcoin Miner10 => ba652bf1f5c3adf9e997d832516d69174d5efa95e2c5e248b1924d33da3a4622\n",
      "Alice is a Bitcoin Miner11 => fca13f70d572656bc974e5396220e2edf0b49d76fc36b920841ff4d935906456\n",
      "Alice is a Bitcoin Miner12 => d093f27eb3df702981b54f630fa4a9dc01dbd4ceefd459642e24451fa87f05df\n",
      "Alice is a Bitcoin Miner13 => 5d6e8246ca6dac35b1f13409a9e37510479a5ae01af144703a95e6b14a266a59\n",
      "Alice is a Bitcoin Miner14 => 3553542418a66a4141cdc1e9425585b9fbd650ceab56639c7efa566b334b9804\n",
      "Alice is a Bitcoin Miner15 => 2bacf41db35c7b00f4674ee5d84e6d5c3fdeae4e3d87531462a42954ed03b391\n",
      "Alice is a Bitcoin Miner16 => ca6b383c902cb5417da3afc333aeec9784c9270646b088ddc8ab33de78f3c329\n",
      "Alice is a Bitcoin Miner17 => 7793d895daafa03fec000993864beb60660d2124316f09c2c1ee328585f91f32\n",
      "Alice is a Bitcoin Miner18 => 2934c395eeba229df2709029ba0457859569ec282d820447b3a5c9de3e4badb1\n",
      "Alice is a Bitcoin Miner19 => 89056395858749a3cda2feee4e97e8b5004ee25a68beca3ae71297327e219a9a\n",
      "\n",
      "Alice is a Bitcoin Miner18 => 2934c395eeba229df2709029ba0457859569ec282d820447b3a5c9de3e4badb1 is the winner!\n"
     ]
    }
   ],
   "source": [
    "import hashlib\n",
    "\n",
    "lowest_hash = None\n",
    "lowest_input = None\n",
    "\n",
    "for nonce in range(20):\n",
    "    input_text = f'Alice is a Bitcoin Miner{nonce}'\n",
    "    content_bytes = input_text.encode('utf-8')\n",
    "    hash_result = hashlib.sha256(content_bytes).hexdigest()\n",
    "    print(f'{input_text} => {hash_result}')\n",
    "    if (lowest_hash is None) or (hash_result < lowest_hash):\n",
    "        lowest_hash = hash_result\n",
    "        lowest_input = input_text\n",
    "\n",
    "print(f'\\n{lowest_input} => {lowest_hash} is the winner!')\n"
   ]
  },
  {
   "cell_type": "markdown",
   "id": "5a10669a-1f7f-4145-9bc3-4cc3aefdd655",
   "metadata": {},
   "source": [
    "Alice is a Bitcoin Miner18 produces the lowest hexadecimal hash value."
   ]
  }
 ],
 "metadata": {
  "kernelspec": {
   "display_name": "Python 3 (ipykernel)",
   "language": "python",
   "name": "python3"
  },
  "language_info": {
   "codemirror_mode": {
    "name": "ipython",
    "version": 3
   },
   "file_extension": ".py",
   "mimetype": "text/x-python",
   "name": "python",
   "nbconvert_exporter": "python",
   "pygments_lexer": "ipython3",
   "version": "3.12.4"
  }
 },
 "nbformat": 4,
 "nbformat_minor": 5
}
