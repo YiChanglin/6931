{
 "cells": [
  {
   "cell_type": "code",
   "execution_count": 1,
   "id": "f88a5057-4b8b-40c4-a903-b0407eebaa48",
   "metadata": {},
   "outputs": [
    {
     "name": "stdout",
     "output_type": "stream",
     "text": [
      "Fetching data for BTC/USDT...\n",
      "Fetching data for ETH/USDT...\n",
      "Data for BTC/USDT saved to BTC_USDT_2024-10-04.csv\n",
      "Data for ETH/USDT saved to ETH_USDT_2024-10-04.csv\n",
      "Data fetching complete.\n"
     ]
    }
   ],
   "source": [
    "import ccxt\n",
    "import datetime\n",
    "import pandas as pd\n",
    "\n",
    "# Initialize the OKX exchange\n",
    "exchange = ccxt.okx({\n",
    "    'rateLimit': 1000,  # Rate limit (can be adjusted)\n",
    "    'enableRateLimit': True,\n",
    "})\n",
    "\n",
    "# Set the symbols and date range\n",
    "symbols = ['BTC/USDT', 'ETH/USDT']  # Note: USDT/USDT may not be a valid pair; usually just USDT against other pairs\n",
    "start_date = '2024-10-04T00:00:00Z'\n",
    "end_date = '2024-10-04T23:59:59Z'\n",
    "\n",
    "# Function to fetch historical data\n",
    "def fetch_data(symbol, start_date, end_date):\n",
    "    since = exchange.parse8601(start_date)\n",
    "    data = []\n",
    "    while since < exchange.parse8601(end_date):\n",
    "        try:\n",
    "            ohlcvs = exchange.fetch_ohlcv(symbol, timeframe='1s', since=since, limit=1000)\n",
    "            if not ohlcvs:\n",
    "                break\n",
    "            data.extend(ohlcvs)\n",
    "            # Update 'since' to fetch the next batch\n",
    "            since = ohlcvs[-1][0] + 1000  # Offset by 1s in milliseconds\n",
    "        except Exception as e:\n",
    "            print(f\"Error fetching data for {symbol}: {e}\")\n",
    "            break\n",
    "    return data\n",
    "\n",
    "# Fetch and store data for each symbol\n",
    "dataframes = {}\n",
    "for symbol in symbols:\n",
    "    print(f\"Fetching data for {symbol}...\")\n",
    "    raw_data = fetch_data(symbol, start_date, end_date)\n",
    "    if raw_data:\n",
    "        df = pd.DataFrame(raw_data, columns=['timestamp', 'open', 'high', 'low', 'close', 'volume'])\n",
    "        df['timestamp'] = pd.to_datetime(df['timestamp'], unit='ms')\n",
    "        dataframes[symbol] = df\n",
    "\n",
    "# Save to CSV files\n",
    "for symbol, df in dataframes.items():\n",
    "    filename = f\"{symbol.replace('/', '_')}_2024-10-04.csv\"\n",
    "    df.to_csv(filename, index=False)\n",
    "    print(f\"Data for {symbol} saved to {filename}\")\n",
    "\n",
    "print(\"Data fetching complete.\")"
   ]
  }
 ],
 "metadata": {
  "kernelspec": {
   "display_name": "Python 3 (ipykernel)",
   "language": "python",
   "name": "python3"
  },
  "language_info": {
   "codemirror_mode": {
    "name": "ipython",
    "version": 3
   },
   "file_extension": ".py",
   "mimetype": "text/x-python",
   "name": "python",
   "nbconvert_exporter": "python",
   "pygments_lexer": "ipython3",
   "version": "3.12.4"
  }
 },
 "nbformat": 4,
 "nbformat_minor": 5
}
